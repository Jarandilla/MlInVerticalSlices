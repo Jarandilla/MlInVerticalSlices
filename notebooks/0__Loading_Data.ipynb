{
 "cells": [
  {
   "cell_type": "markdown",
   "metadata": {},
   "source": [
    "# Loading and Wrangling Data"
   ]
  },
  {
   "cell_type": "markdown",
   "metadata": {},
   "source": [
    ".NET Interactive offers far more than just interactive notebooks for executing trivial code. It exposes a rich API for creating formatters, magic commands and additional sub-language-kernels. The `Microsoft.DotNet.Interactive.ExtensionLab` package showcases all of those features."
   ]
  },
  {
   "cell_type": "code",
   "execution_count": null,
   "metadata": {
    "dotnet_interactive": {
     "language": "fsharp"
    }
   },
   "outputs": [],
   "source": [
    "#r \"nuget:Microsoft.DotNet.Interactive.ExtensionLab, *-*\""
   ]
  },
  {
   "cell_type": "markdown",
   "metadata": {},
   "source": [
    "Run this cell if you don't already have the SQLite data base containing the energy data set. It contains energy load data for a lot of European national grids. The European market is pretty interconnected and because of the energy market liberation they have to rather open with certain subsets of their data. Not all of the countries are totally compliant but the Austrian subset is rather tidy."
   ]
  },
  {
   "cell_type": "code",
   "execution_count": null,
   "metadata": {
    "dotnet_interactive": {
     "language": "fsharp"
    }
   },
   "outputs": [],
   "source": [
    "open System\r\n",
    "open System.Net.Http\r\n",
    "open System.IO\r\n",
    "\r\n",
    "let client = new HttpClient()\r\n",
    "\r\n",
    "let dataPackage =\r\n",
    "    client.GetAsync(\"https://data.open-power-system-data.org/time_series/2020-10-06/time_series.sqlite\")\r\n",
    "    |> Async.AwaitTask\r\n",
    "    |> Async.RunSynchronously\r\n",
    "\r\n",
    "let copyToTarget (targetPath: string) (msg: HttpResponseMessage) =\r\n",
    "    use fileStream = new FileStream(targetPath, FileMode.CreateNew)\r\n",
    "    use contentStream = msg.Content.ReadAsStream()\r\n",
    "    contentStream.CopyTo(fileStream)\r\n",
    "\r\n",
    "let sqliteDbPath = \"../data/time_series.sqlite\"\r\n",
    "\r\n",
    "copyToTarget sqliteDbPath dataPackage"
   ]
  },
  {
   "cell_type": "markdown",
   "metadata": {},
   "source": [
    "The Extension Lab contains a SQLite extension which allows us to use the interactive notebook as an SQL interface. If our data would reside in SQL Server we could use this \"natively\" in .NET Interactive without loading an extension. In this case SQLite is fine for us. Every database connection we want to use can be named and referenced in the following cells."
   ]
  },
  {
   "cell_type": "code",
   "execution_count": null,
   "metadata": {
    "dotnet_interactive": {
     "language": "sql"
    }
   },
   "outputs": [],
   "source": [
    "#!connect sqlite --kernel-name energytimeseries \"Data Source=../data/time_series.sqlite\""
   ]
  },
  {
   "cell_type": "markdown",
   "metadata": {},
   "source": [
    "And as you can see all the SQLite querying works as expected."
   ]
  },
  {
   "cell_type": "code",
   "execution_count": null,
   "metadata": {
    "dotnet_interactive": {
     "language": "sql"
    }
   },
   "outputs": [],
   "source": [
    "#!sql-energytimeseries\r\n",
    "select name from sqlite_master\r\n",
    "where type in ('table', 'view')\r\n",
    "and name not like 'sqlite_%'\r\n",
    "order by 1;"
   ]
  },
  {
   "cell_type": "markdown",
   "metadata": {},
   "source": [
    "It makes no difference if we write queries, mutate the schema or call internal stored procedure. Everything pretty much behaves as it would in a normal SQLite console. With one difference: we can use custom formatters (in this case the Nteract data viewer) to make our experience more joyful than staring at ASCII tables."
   ]
  },
  {
   "cell_type": "code",
   "execution_count": null,
   "metadata": {
    "dotnet_interactive": {
     "language": "sql"
    }
   },
   "outputs": [],
   "source": [
    "#!sql-energytimeseries\r\n",
    "select name from PRAGMA_TABLE_INFO(\"time_series_60min_singleindex\");"
   ]
  },
  {
   "cell_type": "code",
   "execution_count": null,
   "metadata": {
    "dotnet_interactive": {
     "language": "sql"
    }
   },
   "outputs": [],
   "source": [
    "#!sql-energytimeseries\r\n",
    "select utc_timestamp, AT_load_actual_entsoe_transparency\r\n",
    "from time_series_60min_singleindex\r\n",
    "where AT_load_actual_entsoe_transparency is not null\r\n",
    "limit 1000;"
   ]
  },
  {
   "cell_type": "code",
   "execution_count": null,
   "metadata": {
    "dotnet_interactive": {
     "language": "sql"
    }
   },
   "outputs": [],
   "source": [
    "#!sql-energytimeseries\r\n",
    "select utc_timestamp, AT_load_actual_entsoe_transparency\r\n",
    "from time_series_15min_singleindex\r\n",
    "where AT_load_actual_entsoe_transparency is not null\r\n",
    "limit 4000;"
   ]
  },
  {
   "cell_type": "code",
   "execution_count": null,
   "metadata": {
    "dotnet_interactive": {
     "language": "sql"
    }
   },
   "outputs": [],
   "source": [
    "#!sql-energytimeseries\r\n",
    "select count(1)\r\n",
    "from time_series_60min_singleindex\r\n",
    "where AT_load_actual_entsoe_transparency is not null;"
   ]
  },
  {
   "cell_type": "code",
   "execution_count": null,
   "metadata": {
    "dotnet_interactive": {
     "language": "sql"
    }
   },
   "outputs": [],
   "source": [
    "#!sql-energytimeseries\r\n",
    "select utc_timestamp, cast(strftime('%Y', utc_timestamp) as int) as yr, AT_load_actual_entsoe_transparency\r\n",
    "from time_series_60min_singleindex\r\n",
    "where AT_load_actual_entsoe_transparency is not null\r\n",
    "and yr < 2020\r\n",
    "and yr > 2017;"
   ]
  },
  {
   "cell_type": "markdown",
   "metadata": {},
   "source": [
    "Because we're still in the .NET Interactive Kernel we can switch to another language (like F# in this case) and keep on working in the same notebook. This is nice because I like to seperate my notebooks by topic and not by language."
   ]
  },
  {
   "cell_type": "code",
   "execution_count": null,
   "metadata": {
    "dotnet_interactive": {
     "language": "fsharp"
    }
   },
   "outputs": [],
   "source": [
    "#r \"nuget: Microsoft.Data.Sqlite, 5.0.5\"\r\n",
    "#r \"nuget: Ply, 0.3.1\""
   ]
  },
  {
   "cell_type": "markdown",
   "metadata": {},
   "source": [
    "We could be using Dapper, Entity Framework or any other .NET library which speaks SQL. As our use case is extremely simple I opt for the good old ADO.NET."
   ]
  },
  {
   "cell_type": "code",
   "execution_count": null,
   "metadata": {
    "dotnet_interactive": {
     "language": "fsharp"
    }
   },
   "outputs": [],
   "source": [
    "open Microsoft.Data.Sqlite\r\n",
    "open FSharp.Control.Tasks.NonAffine\r\n",
    "\r\n",
    "let connectionString = \"Data Source=../data/time_series.sqlite\"\r\n",
    "\r\n",
    "type RowRecord =\r\n",
    "    { TimeStamp: DateTime\r\n",
    "      Value: int }\r\n",
    "\r\n",
    "let getSeries () = task {\r\n",
    "    use connection = new SqliteConnection(connectionString)\r\n",
    "    do! connection.OpenAsync()\r\n",
    "\r\n",
    "    let command = connection.CreateCommand()\r\n",
    "    command.CommandText <-\r\n",
    "        \"\"\"\r\n",
    "        select utc_timestamp, cast(strftime('%Y', utc_timestamp) as int) as yr, AT_load_actual_entsoe_transparency\r\n",
    "        from time_series_60min_singleindex\r\n",
    "        where AT_load_actual_entsoe_transparency is not null\r\n",
    "        \"\"\"\r\n",
    "\r\n",
    "    use! reader = command.ExecuteReaderAsync()\r\n",
    "    let rows = ResizeArray<RowRecord>()\r\n",
    "    while reader.Read() do\r\n",
    "        let newRecord = { TimeStamp = reader.GetDateTime(0); Value = reader.GetInt32(2) }\r\n",
    "        rows.Add(newRecord)\r\n",
    "\r\n",
    "    return (Seq.toList rows)\r\n",
    "}\r\n",
    "\r\n",
    "let austriaLoad =\r\n",
    "    getSeries()\r\n",
    "    |> Async.AwaitTask\r\n",
    "    |> Async.RunSynchronously\r\n",
    "\r\n",
    "display (List.length austriaLoad)\r\n",
    "\r\n",
    "austriaLoad\r\n",
    "|> List.take 10"
   ]
  },
  {
   "cell_type": "markdown",
   "metadata": {},
   "source": [
    "If we compare the output of the last cell and the length of the list we see, that we get the same results. Exactly as it should be."
   ]
  },
  {
   "cell_type": "code",
   "execution_count": null,
   "metadata": {
    "dotnet_interactive": {
     "language": "fsharp"
    }
   },
   "outputs": [],
   "source": [
    "austriaLoad\r\n",
    "|> List.distinct\r\n",
    "|> List.length"
   ]
  },
  {
   "cell_type": "markdown",
   "metadata": {},
   "source": [
    "Looking at the amount of distinct timestamps we see a little discrepancy. We could stay in the world of lists and sequences to find it out but as I'd like to wrangle a little bit more anyway this would be a great opportunity to introduce `Deedle`."
   ]
  },
  {
   "cell_type": "code",
   "execution_count": null,
   "metadata": {
    "dotnet_interactive": {
     "language": "fsharp"
    }
   },
   "outputs": [],
   "source": [
    "let austriaLoadUnique =\r\n",
    "    austriaLoad\r\n",
    "    |> List.distinctBy (fun row -> row.TimeStamp)\r\n",
    "\r\n",
    "austriaLoadUnique\r\n",
    "|> List.length"
   ]
  },
  {
   "cell_type": "code",
   "execution_count": null,
   "metadata": {
    "dotnet_interactive": {
     "language": "fsharp"
    }
   },
   "outputs": [],
   "source": [
    "#r \"nuget: Deedle, 2.3.0\"\r\n",
    "\r\n",
    "#i \"nuget:https://www.myget.org/F/gregs-experimental-packages/api/v3/index.json\"\r\n",
    "#r \"nuget:Deedle.DotNet.Interactive.Extension, 0.1.0-alpha6\""
   ]
  },
  {
   "cell_type": "markdown",
   "metadata": {},
   "source": [
    "`Deedle` is F#'s implementation of a Data Frame. You might have used something like that with pandas or with R's native `data.frame`. `Deedle` is just that, a library that lets you work with \"rectangular\" data, combinsing tables out of different series."
   ]
  },
  {
   "cell_type": "code",
   "execution_count": null,
   "metadata": {
    "dotnet_interactive": {
     "language": "fsharp"
    }
   },
   "outputs": [],
   "source": [
    "open Deedle\r\n",
    "\r\n",
    "let data =\r\n",
    "    austriaLoadUnique\r\n",
    "    |> Frame.ofRecords\r\n",
    "    |> Frame.indexRowsDate \"TimeStamp\"\r\n",
    "\r\n",
    "data"
   ]
  },
  {
   "cell_type": "markdown",
   "metadata": {},
   "source": [
    "`Deedle` is pretty good for tasks related to time series. In this case I want to see if Ihave gaps in my time series. I construct a complete index of timestamps from the first timestamp to the last one, add a running counter to model a simple linear trend and join the frames. The exact lookup will create `NA` values wherever there is a gap."
   ]
  },
  {
   "cell_type": "code",
   "execution_count": null,
   "metadata": {
    "dotnet_interactive": {
     "language": "fsharp"
    }
   },
   "outputs": [],
   "source": [
    "let minDate =\r\n",
    "    data.RowKeys\r\n",
    "    |> Seq.min\r\n",
    "\r\n",
    "let maxDate =\r\n",
    "    data.RowKeys\r\n",
    "    |> Seq.max\r\n",
    "\r\n",
    "let hoursBetween = (maxDate - minDate).TotalHours\r\n",
    "let numOfValues = hoursBetween + 1.\r\n",
    "\r\n",
    "let timeSeriesIndex = [ for x in 0. .. hoursBetween -> minDate.AddHours(x)]\r\n",
    "let tsTicks = [ 1. .. numOfValues ]\r\n",
    "\r\n",
    "let frameSeries =\r\n",
    "    Seq.zip timeSeriesIndex tsTicks\r\n",
    "    |> Series.ofObservations\r\n",
    "\r\n",
    "let baseFrame = Frame.ofColumns [ \"Ticks\" => frameSeries ]\r\n",
    "\r\n",
    "let completeFrame = baseFrame.Join(data, JoinKind.Left, Lookup.Exact)\r\n",
    "completeFrame"
   ]
  },
  {
   "cell_type": "markdown",
   "metadata": {},
   "source": [
    "Looking at missing values (and making the output a bit prettier) just takes a little helper function."
   ]
  },
  {
   "cell_type": "code",
   "execution_count": null,
   "metadata": {
    "dotnet_interactive": {
     "language": "fsharp"
    }
   },
   "outputs": [],
   "source": [
    "let missingCount (frame: Frame<'K, 'C>) =\r\n",
    "    frame.Columns\r\n",
    "    |> Series.map (fun _ os -> os\r\n",
    "                            |> Series.filterAll (fun _ v -> v.IsNone)\r\n",
    "                            |> Series.fillMissingWith 0.\r\n",
    "                            |> Stats.count\r\n",
    "                            |> fun count -> Series.ofObservations [ \"Missing Count\", float count\r\n",
    "                                                                    \"Missing %\", (float count) / (float os.KeyCount) * 100. ])\r\n",
    "    |> Frame.ofColumns\r\n",
    "    |> Frame.transpose\r\n",
    "\r\n",
    "missingCount completeFrame"
   ]
  },
  {
   "cell_type": "markdown",
   "metadata": {},
   "source": [
    "Funny observation! Why is that? We read the values in UTC. Apparently we dropped the \"double\" values when switching to summer time."
   ]
  },
  {
   "cell_type": "code",
   "execution_count": null,
   "metadata": {
    "dotnet_interactive": {
     "language": "fsharp"
    }
   },
   "outputs": [],
   "source": [
    "completeFrame\r\n",
    "|> Frame.filterRows (fun _ os -> os.TryGetAs<float>(\"Value\").HasValue |> not)"
   ]
  },
  {
   "cell_type": "markdown",
   "metadata": {},
   "source": [
    "Doing imputation in time series can be rather tricky. In this case we can go the easy route, though, and opt for simple forward imputation to avoid a lookahead."
   ]
  },
  {
   "cell_type": "code",
   "execution_count": null,
   "metadata": {
    "dotnet_interactive": {
     "language": "fsharp"
    }
   },
   "outputs": [],
   "source": [
    "completeFrame?Value <-\r\n",
    "    completeFrame?Value\r\n",
    "    |> Series.fillMissing Direction.Forward\r\n",
    "\r\n",
    "missingCount completeFrame"
   ]
  },
  {
   "cell_type": "markdown",
   "metadata": {},
   "source": [
    "The last thing we can do before we take a closer look at the data is to look at some descriptive statistics."
   ]
  },
  {
   "cell_type": "code",
   "execution_count": null,
   "metadata": {
    "dotnet_interactive": {
     "language": "fsharp"
    }
   },
   "outputs": [],
   "source": [
    "let describeFrame (frame: Frame<'R, 'C>) =\r\n",
    "    Frame.getNumericCols frame\r\n",
    "    |> Series.map (fun key s -> Stats.describe s)\r\n",
    "    |> Frame.ofRows\r\n",
    "    |> Frame.transpose\r\n",
    "\r\n",
    "describeFrame completeFrame"
   ]
  },
  {
   "cell_type": "markdown",
   "metadata": {},
   "source": [
    "At this point, because we don't have a more advanced time series management system in place I'll stick to a simple CSV file. That's good enough for a Pitch-MVP."
   ]
  },
  {
   "cell_type": "code",
   "execution_count": null,
   "metadata": {
    "dotnet_interactive": {
     "language": "fsharp"
    }
   },
   "outputs": [],
   "source": [
    "completeFrame.SaveCsv(\"../data/at_load_hourly_mw.csv\", [ \"TimeStamp\" ])"
   ]
  }
 ],
 "metadata": {
  "kernelspec": {
   "display_name": ".NET (C#)",
   "language": "C#",
   "name": ".net-csharp"
  },
  "language_info": {
   "file_extension": ".cs",
   "mimetype": "text/x-csharp",
   "name": "C#",
   "pygments_lexer": "csharp",
   "version": "9.0"
  },
  "orig_nbformat": 2
 },
 "nbformat": 4,
 "nbformat_minor": 2
}