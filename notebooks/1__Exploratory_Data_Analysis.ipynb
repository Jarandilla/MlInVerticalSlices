{
 "cells": [
  {
   "cell_type": "markdown",
   "metadata": {},
   "source": [
    "# Data Exploration"
   ]
  },
  {
   "cell_type": "markdown",
   "metadata": {},
   "source": [
    "Never go and model something if you haven't had a look at the data. In the case of this dataset - a univariate time series - there isn't much too look at, but we can still get very helpful insights. We are going to use `Plotly.NET` to look at the data."
   ]
  },
  {
   "cell_type": "code",
   "execution_count": null,
   "metadata": {
    "dotnet_interactive": {
     "language": "fsharp"
    }
   },
   "outputs": [],
   "source": [
    "#r \"nuget: Deedle, 2.3.0\"\r\n",
    "#r \"nuget: Plotly.NET, 2.0.0-beta9\"\r\n",
    "#r \"nuget: Plotly.NET.Interactive, 2.0.0-beta9\"\r\n",
    "\r\n",
    "#i \"nuget:https://www.myget.org/F/gregs-experimental-packages/api/v3/index.json\"\r\n",
    "#r \"nuget:Deedle.DotNet.Interactive.Extension, 0.1.0-alpha6\""
   ]
  },
  {
   "cell_type": "markdown",
   "metadata": {},
   "source": [
    "For this and all further steps we'll always return to the same dataset. We can be pretty sure, that everything should be in order with it but it is always good to take a quick cautionary glance."
   ]
  },
  {
   "cell_type": "code",
   "execution_count": null,
   "metadata": {
    "dotnet_interactive": {
     "language": "fsharp"
    }
   },
   "outputs": [],
   "source": [
    "open Deedle\r\n",
    "open Plotly.NET\r\n",
    "\r\n",
    "let data =\r\n",
    "    Frame.ReadCsv(\"../data/at_load_hourly_mw.csv\", hasHeaders = true, culture = \"en-US\", inferTypes = true, inferRows = 5_000)\r\n",
    "    |> Frame.indexRowsDate \"TimeStamp\"\r\n",
    "\r\n",
    "data"
   ]
  },
  {
   "cell_type": "markdown",
   "metadata": {},
   "source": [
    "With around 50k observations it isn't a bad idea to enable `WebGL` in our charts. As .NET Interactive runs in the electron based VSCode (or the browser) `WebGL` should usually be available for us."
   ]
  },
  {
   "cell_type": "code",
   "execution_count": null,
   "metadata": {
    "dotnet_interactive": {
     "language": "fsharp"
    }
   },
   "outputs": [],
   "source": [
    "data?Value\r\n",
    "|> Series.observations\r\n",
    "|> fun xy -> Chart.Line(xy, UseWebGL = true)"
   ]
  },
  {
   "cell_type": "markdown",
   "metadata": {},
   "source": [
    "Another way to get rid of a lot of datapoints would be to resample the data at a lower granularity (days instead of hours). We can also look and see if we see any different patterns in the resampled data."
   ]
  },
  {
   "cell_type": "code",
   "execution_count": null,
   "metadata": {
    "dotnet_interactive": {
     "language": "fsharp"
    }
   },
   "outputs": [],
   "source": [
    "data?Value\r\n",
    "|> Series.sampleTime (TimeSpan.FromDays(1.)) Direction.Forward\r\n",
    "|> Series.mapValues Stats.median\r\n",
    "|> Series.observations\r\n",
    "|> fun xy -> Chart.Line(xy, UseWebGL = true)"
   ]
  },
  {
   "cell_type": "markdown",
   "metadata": {},
   "source": [
    "Looking at the different years we see, that there is a clear yearly pattern (a so called seasonality). We can filter the data and take a closer look at the relatively \"clean\" year 2018."
   ]
  },
  {
   "cell_type": "code",
   "execution_count": null,
   "metadata": {
    "dotnet_interactive": {
     "language": "fsharp"
    }
   },
   "outputs": [],
   "source": [
    "let data_2018 =\r\n",
    "    data\r\n",
    "    |> Frame.filterRows (fun idx rs -> idx.Year > 2017 && idx.Year < 2019)\r\n",
    "\r\n",
    "data_2018?Value\r\n",
    "|> Series.observations\r\n",
    "|> fun xy -> Chart.Line(xy, UseWebGL = true)"
   ]
  },
  {
   "cell_type": "markdown",
   "metadata": {},
   "source": [
    "Looking at this filtered view I'd suspect (also guided by my knowledge of energy consumption) to see some patterns at the week and day level. Looking at a couple of consecutive weeks shows that my initial suspicion might be true."
   ]
  },
  {
   "cell_type": "code",
   "execution_count": null,
   "metadata": {
    "dotnet_interactive": {
     "language": "fsharp"
    }
   },
   "outputs": [],
   "source": [
    "let predicateWeekOfYear (weeks: int list) (dt: DateTime) =\r\n",
    "    let cal = System.Globalization.CultureInfo.InvariantCulture.Calendar\r\n",
    "    let weekOfYear = cal.GetWeekOfYear(dt, Globalization.CalendarWeekRule.FirstDay, DayOfWeek.Monday)\r\n",
    "    List.contains weekOfYear weeks\r\n",
    "\r\n",
    "data_2018?Value\r\n",
    "|> Series.observations\r\n",
    "|> Seq.filter (fst >> (predicateWeekOfYear [10; 11; 12; 13]))\r\n",
    "|> fun xy -> Chart.Line(xy, UseWebGL = true)"
   ]
  }
 ],
 "metadata": {
  "kernelspec": {
   "display_name": ".NET (C#)",
   "language": "C#",
   "name": ".net-csharp"
  },
  "language_info": {
   "file_extension": ".cs",
   "mimetype": "text/x-csharp",
   "name": "C#",
   "pygments_lexer": "csharp",
   "version": "9.0"
  },
  "orig_nbformat": 2
 },
 "nbformat": 4,
 "nbformat_minor": 2
}