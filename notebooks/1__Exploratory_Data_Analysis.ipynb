{
 "cells": [
  {
   "cell_type": "code",
   "execution_count": null,
   "metadata": {
    "dotnet_interactive": {
     "language": "fsharp"
    }
   },
   "outputs": [],
   "source": [
    "#r \"nuget: Deedle, 2.3.0\"\r\n",
    "#r \"nuget: Plotly.NET, 2.0.0-beta9\"\r\n",
    "#r \"nuget: Plotly.NET.Interactive, 2.0.0-beta9\"\r\n",
    "\r\n",
    "#i \"nuget:https://www.myget.org/F/gregs-experimental-packages/api/v3/index.json\"\r\n",
    "#r \"nuget:Deedle.DotNet.Interactive.Extension, 0.1.0-alpha5\""
   ]
  },
  {
   "cell_type": "code",
   "execution_count": null,
   "metadata": {
    "dotnet_interactive": {
     "language": "fsharp"
    }
   },
   "outputs": [],
   "source": [
    "open Deedle\r\n",
    "open Plotly.NET"
   ]
  },
  {
   "cell_type": "code",
   "execution_count": null,
   "metadata": {
    "dotnet_interactive": {
     "language": "fsharp"
    }
   },
   "outputs": [],
   "source": [
    "let data =\r\n",
    "    Frame.ReadCsv(\"../data/at_load_hourly_mw.csv\", hasHeaders = true, culture = \"en-US\", inferTypes = true, inferRows = 5_000)\r\n",
    "    |> Frame.indexRowsDate \"TimeStamp\"\r\n",
    "\r\n",
    "data"
   ]
  },
  {
   "cell_type": "code",
   "execution_count": null,
   "metadata": {
    "dotnet_interactive": {
     "language": "fsharp"
    }
   },
   "outputs": [],
   "source": [
    "data?Value\r\n",
    "|> Series.observations\r\n",
    "|> fun xy -> Chart.Line(xy, UseWebGL = true)"
   ]
  },
  {
   "cell_type": "markdown",
   "metadata": {},
   "source": [
    "Going through the news the only thing indicating why there should have been such a dip in the energy network could have been interruption in the greater network due to the Krim crisis. This doesn't really check out, though."
   ]
  },
  {
   "cell_type": "code",
   "execution_count": null,
   "metadata": {
    "dotnet_interactive": {
     "language": "fsharp"
    }
   },
   "outputs": [],
   "source": [
    "data?Value\r\n",
    "|> Series.sampleTime (TimeSpan.FromDays(1.)) Direction.Forward\r\n",
    "|> Series.mapValues Stats.median\r\n",
    "|> Series.observations\r\n",
    "|> fun xy -> Chart.Line(xy, UseWebGL = true)"
   ]
  },
  {
   "cell_type": "code",
   "execution_count": null,
   "metadata": {
    "dotnet_interactive": {
     "language": "fsharp"
    }
   },
   "outputs": [],
   "source": [
    "let data_2018 =\r\n",
    "    data\r\n",
    "    |> Frame.filterRows (fun idx rs -> idx.Year > 2017 && idx.Year < 2019)\r\n",
    "\r\n",
    "data_2018?Value\r\n",
    "|> Series.observations\r\n",
    "|> fun xy -> Chart.Line(xy, UseWebGL = true)"
   ]
  },
  {
   "cell_type": "code",
   "execution_count": null,
   "metadata": {
    "dotnet_interactive": {
     "language": "fsharp"
    }
   },
   "outputs": [],
   "source": [
    "let predicateWeekOfYear (weeks: int list) (dt: DateTime) =\r\n",
    "    let cal = System.Globalization.CultureInfo.InvariantCulture.Calendar\r\n",
    "    let weekOfYear = cal.GetWeekOfYear(dt, Globalization.CalendarWeekRule.FirstDay, DayOfWeek.Monday)\r\n",
    "    List.contains weekOfYear weeks\r\n",
    "\r\n",
    "data_2018?Value\r\n",
    "|> Series.observations\r\n",
    "|> Seq.filter (fst >> (predicateWeekOfYear [10; 11; 12; 13]))\r\n",
    "|> fun xy -> Chart.Line(xy, UseWebGL = true)"
   ]
  }
 ],
 "metadata": {
  "kernelspec": {
   "display_name": ".NET (C#)",
   "language": "C#",
   "name": ".net-csharp"
  },
  "language_info": {
   "file_extension": ".cs",
   "mimetype": "text/x-csharp",
   "name": "C#",
   "pygments_lexer": "csharp",
   "version": "9.0"
  },
  "orig_nbformat": 2
 },
 "nbformat": 4,
 "nbformat_minor": 2
}