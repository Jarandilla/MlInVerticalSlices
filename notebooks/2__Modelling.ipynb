{
 "cells": [
  {
   "cell_type": "code",
   "execution_count": null,
   "metadata": {
    "dotnet_interactive": {
     "language": "fsharp"
    }
   },
   "outputs": [],
   "source": [
    "#r \"nuget: Deedle, 2.3.0\"\r\n",
    "#r \"nuget: Plotly.NET, 2.0.0-beta9\"\r\n",
    "#r \"nuget: Plotly.NET.Interactive, 2.0.0-beta9\"\r\n",
    "#r \"nuget: Microsoft.ML, 1.5.5\"\r\n",
    "#r \"nuget: Microsoft.ML.Mkl.Components, 1.5.5\"\r\n",
    "#r \"nuget: Microsoft.ML.TimeSeries, 1.5.5\"\r\n",
    "#r \"nuget: FSharp.Stats, 0.4.1\"\r\n",
    "\r\n",
    "#i \"nuget:https://www.myget.org/F/gregs-experimental-packages/api/v3/index.json\"\r\n",
    "#r \"nuget:Deedle.DotNet.Interactive.Extension, 0.1.0-alpha5\""
   ]
  },
  {
   "cell_type": "code",
   "execution_count": null,
   "metadata": {
    "dotnet_interactive": {
     "language": "fsharp"
    }
   },
   "outputs": [],
   "source": [
    "open Deedle\r\n",
    "open Plotly.NET"
   ]
  },
  {
   "cell_type": "code",
   "execution_count": null,
   "metadata": {
    "dotnet_interactive": {
     "language": "fsharp"
    }
   },
   "outputs": [],
   "source": [
    "let data =\r\n",
    "    Frame.ReadCsv(\"../data/at_load_hourly_mw.csv\", hasHeaders = true, culture = \"en-US\", inferTypes = true, inferRows = 5_000)\r\n",
    "    |> Frame.indexRowsDate \"TimeStamp\"\r\n",
    "\r\n",
    "data"
   ]
  },
  {
   "cell_type": "code",
   "execution_count": null,
   "metadata": {
    "dotnet_interactive": {
     "language": "fsharp"
    }
   },
   "outputs": [],
   "source": [
    "let shiftedValues =\r\n",
    "    data?Value\r\n",
    "    |> Series.shift -1\r\n",
    "\r\n",
    "let baseDateSeries =\r\n",
    "    Seq.zip data.RowKeys data.RowKeys\r\n",
    "    |> Series.ofObservations\r\n",
    "\r\n",
    "let dayOfWeek =\r\n",
    "    baseDateSeries\r\n",
    "    |> Series.mapValues (fun dt -> string dt.DayOfWeek)\r\n",
    "\r\n",
    "let month =\r\n",
    "    baseDateSeries\r\n",
    "    |> Series.mapValues (fun dt -> string dt.Month)\r\n",
    "\r\n",
    "let peakOffPeak =\r\n",
    "    baseDateSeries\r\n",
    "    |> Series.mapValues (fun dt -> if dt.Hour < 8 || dt.Hour > 19 then \"OffPeak\" else \"Peak\")\r\n",
    "\r\n",
    "let dataWithFeatures =\r\n",
    "    data\r\n",
    "    |> Frame.addCol \"Target\" shiftedValues\r\n",
    "    |> Frame.addCol \"DayOfWeek\" dayOfWeek\r\n",
    "    |> Frame.addCol \"Month\" month\r\n",
    "    |> Frame.addCol \"PeakOffPeak\" peakOffPeak\r\n",
    "    |> Frame.filterRows (fun key _ -> key.Year < 2020)\r\n",
    "    |> Frame.dropSparseRows\r\n",
    "\r\n",
    "let dataTrain =\r\n",
    "    dataWithFeatures\r\n",
    "    |> Frame.filterRows (fun key _ -> key.Year < 2019)\r\n",
    "\r\n",
    "let dataTest =\r\n",
    "    dataWithFeatures\r\n",
    "    |> Frame.filterRows (fun key _ -> key.Year >= 2019)\r\n",
    "\r\n",
    "dataTrain\r\n",
    "|> Frame.skip 3"
   ]
  },
  {
   "cell_type": "code",
   "execution_count": null,
   "metadata": {
    "dotnet_interactive": {
     "language": "fsharp"
    }
   },
   "outputs": [],
   "source": [
    "dataTrain |> Frame.takeLast 1"
   ]
  },
  {
   "cell_type": "code",
   "execution_count": null,
   "metadata": {
    "dotnet_interactive": {
     "language": "fsharp"
    }
   },
   "outputs": [],
   "source": [
    "type ILoadRow =\r\n",
    "    abstract member Ticks: float32 with get\r\n",
    "    abstract member Value: float32 with get\r\n",
    "    abstract member Target: float32 with get\r\n",
    "    abstract member DayOfWeek: string with get\r\n",
    "    abstract member Month: string with get\r\n",
    "    abstract member PeakOffPeak: string with get\r\n",
    "\r\n",
    "let (trainKeys: DateTime seq, trainRows: ILoadRow seq) =\r\n",
    "    dataTrain.GetRowsAs<ILoadRow>()\r\n",
    "    |> Series.observations\r\n",
    "    |> Seq.unzip\r\n",
    "\r\n",
    "let testKeys, testRows =\r\n",
    "    dataTest.GetRowsAs<ILoadRow>()\r\n",
    "    |> Series.observations\r\n",
    "    |> Seq.unzip\r\n",
    "\r\n",
    "Seq.length trainRows, Seq.length testRows"
   ]
  },
  {
   "cell_type": "code",
   "execution_count": null,
   "metadata": {
    "dotnet_interactive": {
     "language": "fsharp"
    }
   },
   "outputs": [],
   "source": [
    "open Microsoft.ML\r\n",
    "open Microsoft.ML.Data\r\n",
    "open Microsoft.ML.Trainers\r\n",
    "open Microsoft.ML.Transforms\r\n",
    "open FSharp.Stats.Correlation"
   ]
  },
  {
   "cell_type": "code",
   "execution_count": null,
   "metadata": {
    "dotnet_interactive": {
     "language": "fsharp"
    }
   },
   "outputs": [],
   "source": [
    "[<CLIMutable>]\r\n",
    "type ForecastInput =\r\n",
    "    { Ticks: float32\r\n",
    "      Value: float32\r\n",
    "      [<ColumnName(\"Label\")>]Target: float32\r\n",
    "      DayOfWeek: string\r\n",
    "      Month: string\r\n",
    "      PeakOffPeak: string }\r\n",
    "\r\n",
    "    static member FromILoadRows (row: ILoadRow) =\r\n",
    "        { Ticks = row.Ticks\r\n",
    "          Value = row.Value\r\n",
    "          Target = row.Target\r\n",
    "          DayOfWeek = row.DayOfWeek\r\n",
    "          Month = row.Month\r\n",
    "          PeakOffPeak = row.PeakOffPeak }\r\n",
    "\r\n",
    "[<CLIMutable>]\r\n",
    "type ForecastResult =\r\n",
    "    { [<ColumnName(\"Score\")>]LoadForecast: float32 }\r\n",
    "\r\n",
    "let downCastPipeline (pipeline: IEstimator<'a>) =\r\n",
    "    match pipeline with\r\n",
    "    | :? IEstimator<ITransformer> as p -> p\r\n",
    "    | _ -> failwith $\"The pipeline has to be an instance of IEstimator<ITransformer> but was %A{pipeline.GetType()}\"\r\n",
    "\r\n",
    "let mlContext = MLContext(seed = 42)\r\n",
    "let defInp = Unchecked.defaultof<ForecastInput>\r\n",
    "let dayOneHot = \"DayOfWeekOneHot\"\r\n",
    "let monthOneHot = \"MonthOneHot\"\r\n",
    "let peakOneHot = \"PeakOffPeakOneHot\"\r\n",
    "\r\n",
    "let processingPipeline =\r\n",
    "    EstimatorChain()\r\n",
    "        .Append(mlContext.Transforms.Categorical.OneHotEncoding(dayOneHot, nameof defInp.DayOfWeek))\r\n",
    "        .Append(mlContext.Transforms.Categorical.OneHotEncoding(monthOneHot, nameof defInp.Month))\r\n",
    "        .Append(mlContext.Transforms.Categorical.OneHotEncoding(peakOneHot, nameof defInp.PeakOffPeak))\r\n",
    "        .Append(mlContext.Transforms.Concatenate(\"Features\", [| dayOneHot; monthOneHot; peakOneHot; nameof defInp.Ticks |]))\r\n",
    "        // .Append(mlContext.Transforms.Concatenate(\"Features\", [| nameof defInp.Value |]))\r\n",
    "        // .Append(mlContext.Transforms.Concatenate(\"Features\", [| dayOneHot; monthOneHot; peakOneHot; nameof defInp.Ticks; nameof defInp.Value |]))\r\n",
    "    |> downCastPipeline\r\n",
    "\r\n",
    "let trainerOptions = OlsTrainer.Options(CalculateStatistics = true)\r\n",
    "let trainer =\r\n",
    "    mlContext.Regression.Trainers.Ols(trainerOptions)\r\n",
    "    |> downCastPipeline\r\n",
    "\r\n",
    "let dataViewTrain = mlContext.Data.LoadFromEnumerable<ForecastInput>(trainRows |> Seq.map (fun row -> ForecastInput.FromILoadRows row))\r\n",
    "let dataViewTest = mlContext.Data.LoadFromEnumerable<ForecastInput>(testRows |> Seq.map (fun row -> ForecastInput.FromILoadRows row))"
   ]
  },
  {
   "cell_type": "code",
   "execution_count": null,
   "metadata": {
    "dotnet_interactive": {
     "language": "fsharp"
    }
   },
   "outputs": [],
   "source": [
    "let trainingPipeline = processingPipeline.Append(trainer)\r\n",
    "let trainedModel = trainingPipeline.Fit(dataViewTrain)"
   ]
  },
  {
   "cell_type": "code",
   "execution_count": null,
   "metadata": {
    "dotnet_interactive": {
     "language": "fsharp"
    }
   },
   "outputs": [],
   "source": [
    "let transformedData = trainedModel.Transform(dataViewTest)\r\n",
    "let predictions = mlContext.Data.CreateEnumerable<ForecastResult>(transformedData, reuseRowObject = false) |> Seq.toList\r\n",
    "\r\n",
    "mlContext.Regression.Evaluate(transformedData)"
   ]
  },
  {
   "cell_type": "code",
   "execution_count": null,
   "metadata": {
    "dotnet_interactive": {
     "language": "fsharp"
    }
   },
   "outputs": [],
   "source": [
    "open Plotly.NET\r\n",
    "\r\n",
    "let predVals = predictions |> Seq.map (fun p -> p.LoadForecast)\r\n",
    "let actualVals = testRows |> Seq.map (fun r -> r.Target)\r\n",
    "\r\n",
    "let predChart =\r\n",
    "    Seq.zip testKeys predVals\r\n",
    "    |> fun xy -> Chart.Line(xy, UseWebGL = true, Name = \"Predicted\")\r\n",
    "\r\n",
    "let actualChart =\r\n",
    "    Seq.zip testKeys actualVals\r\n",
    "    |> fun xy -> Chart.Line(xy, UseWebGL = true, Name = \"Actual\")\r\n",
    "\r\n",
    "[ actualChart; predChart ]\r\n",
    "|> Chart.Combine"
   ]
  },
  {
   "cell_type": "markdown",
   "metadata": {},
   "source": [
    "PValues are unfortunately unreliable. See [this issue](https://github.com/dotnet/machinelearning/issues/5696) for more context."
   ]
  },
  {
   "cell_type": "code",
   "execution_count": null,
   "metadata": {
    "dotnet_interactive": {
     "language": "fsharp"
    }
   },
   "outputs": [],
   "source": [
    "let model = (trainedModel.LastTransformer :?> RegressionPredictionTransformer<Microsoft.ML.Trainers.OlsModelParameters>).Model\r\n",
    "model"
   ]
  },
  {
   "cell_type": "code",
   "execution_count": null,
   "metadata": {
    "dotnet_interactive": {
     "language": "fsharp"
    }
   },
   "outputs": [],
   "source": [
    "let minVal =\r\n",
    "    min (Seq.min predVals) (Seq.min actualVals)\r\n",
    "    |> float\r\n",
    "    |> fun v -> v - 100.\r\n",
    "\r\n",
    "let largestVal =\r\n",
    "    max (Seq.max predVals) (Seq.max actualVals)\r\n",
    "    |> float\r\n",
    "    |> fun v -> v + 100.\r\n",
    "\r\n",
    "let diagonalLine =\r\n",
    "    [ (minVal, minVal); (largestVal, largestVal) ]\r\n",
    "    |> fun xy -> Chart.Line(xy, Name = \"Diagonal\")\r\n",
    "\r\n",
    "let predActualScatter =\r\n",
    "    Seq.zip predVals actualVals\r\n",
    "    |> fun xy -> Chart.Point(xy, UseWebGL = true, Name = \"Pred/Actual\")\r\n",
    "    |> Chart.withX_AxisStyle (\"predictions\", MinMax = (minVal, largestVal))\r\n",
    "    |> Chart.withY_AxisStyle (\"actual\", MinMax = (minVal, largestVal))\r\n",
    "\r\n",
    "[ predActualScatter; diagonalLine ]\r\n",
    "|> Chart.Combine\r\n",
    "|> display\r\n",
    "\r\n",
    "Seq.pearson actualVals predVals\r\n",
    "|> display"
   ]
  },
  {
   "cell_type": "code",
   "execution_count": null,
   "metadata": {
    "dotnet_interactive": {
     "language": "fsharp"
    }
   },
   "outputs": [],
   "source": [
    "let predEngine = mlContext.Model.CreatePredictionEngine<ForecastInput, ForecastResult>(trainedModel)\r\n",
    "\r\n",
    "let inputs =\r\n",
    "    mlContext.Data.CreateEnumerable<ForecastInput>(dataViewTest, reuseRowObject = false)\r\n",
    "\r\n",
    "let firstInput =\r\n",
    "    Seq.head inputs\r\n",
    "    |> fun fi -> { fi with Target = float32 0. }\r\n",
    "\r\n",
    "let theRest =\r\n",
    "    inputs\r\n",
    "    |> Seq.skip 1\r\n",
    "    |> Seq.map (fun fi -> { fi with Value = float32 0.; Target = float32 0. })\r\n",
    "    |> Seq.toList\r\n",
    "\r\n",
    "firstInput::theRest\r\n",
    "|> List.take 5"
   ]
  },
  {
   "cell_type": "code",
   "execution_count": null,
   "metadata": {
    "dotnet_interactive": {
     "language": "fsharp"
    }
   },
   "outputs": [],
   "source": [
    "let rec predictDynamically (toPredict: ForecastInput list) (lastPredcition: ForecastResult) =\r\n",
    "    match toPredict with\r\n",
    "    | [] -> []\r\n",
    "    | x::xs ->\r\n",
    "        let x_hat = { x with Value = lastPredcition.LoadForecast }\r\n",
    "        let forecasted = predEngine.Predict(x_hat)\r\n",
    "        forecasted::(predictDynamically xs forecasted)\r\n",
    "\r\n",
    "let dynamicPredictions = predictDynamically (firstInput::theRest) { LoadForecast = firstInput.Value }\r\n",
    "dynamicPredictions\r\n",
    "|> List.take 10"
   ]
  },
  {
   "cell_type": "code",
   "execution_count": null,
   "metadata": {
    "dotnet_interactive": {
     "language": "fsharp"
    }
   },
   "outputs": [],
   "source": [
    "let dynamicPredVals = dynamicPredictions |> List.map (fun pred -> pred.LoadForecast)\r\n",
    "\r\n",
    "let predChart =\r\n",
    "    Seq.zip testKeys dynamicPredVals\r\n",
    "    |> fun xy -> Chart.Line(xy, UseWebGL = true, Name = \"Predicted\")\r\n",
    "\r\n",
    "let actualChart =\r\n",
    "    Seq.zip testKeys actualVals\r\n",
    "    |> fun xy -> Chart.Line(xy, UseWebGL = true, Name = \"Actual\")\r\n",
    "\r\n",
    "[ actualChart; predChart ]\r\n",
    "|> Chart.Combine"
   ]
  },
  {
   "cell_type": "code",
   "execution_count": null,
   "metadata": {
    "dotnet_interactive": {
     "language": "fsharp"
    }
   },
   "outputs": [],
   "source": [
    "let modelDirectory = \"../models\"\r\n",
    "let linearModel = modelDirectory + \"/linear_model.zip\"\r\n",
    "\r\n",
    "mlContext.Model.Save(trainedModel, dataViewTrain.Schema, linearModel)"
   ]
  },
  {
   "cell_type": "code",
   "execution_count": null,
   "metadata": {
    "dotnet_interactive": {
     "language": "fsharp"
    }
   },
   "outputs": [],
   "source": [
    "[<CLIMutable>]\r\n",
    "type AlternativeForecastInput =\r\n",
    "    { Load: float32\r\n",
    "      TimeStamp: DateTime }\r\n",
    "\r\n",
    "[<CLIMutable>]\r\n",
    "type AlternativeLoadForecast =\r\n",
    "  { Forecast: float32 array\r\n",
    "    LowerBound: float32 array\r\n",
    "    UpperBound: float32 array }\r\n",
    "\r\n",
    "let altForecastInputs =\r\n",
    "  dataTrain?Value\r\n",
    "  |> Series.observations\r\n",
    "  |> Seq.map (fun (k, v) -> { Load = float32 v; TimeStamp = k})\r\n",
    "\r\n",
    "let pipeline =\r\n",
    "  mlContext.Forecasting.ForecastBySsa(\r\n",
    "    \"Forecast\",\r\n",
    "    nameof Unchecked.defaultof<AlternativeForecastInput>.Load,\r\n",
    "    windowSize =  24 * 30,\r\n",
    "    seriesLength = 24 * 30 * 2,\r\n",
    "    trainSize = dataTrain.RowCount,\r\n",
    "    horizon = 24 * 30 ,\r\n",
    "    confidenceLevel = 0.90f,\r\n",
    "    confidenceLowerBoundColumn = \"LowerBound\",\r\n",
    "    confidenceUpperBoundColumn = \"UpperBound\"\r\n",
    ")\r\n",
    "\r\n",
    "let altForecastData = mlContext.Data.LoadFromEnumerable(altForecastInputs)\r\n",
    "\r\n",
    "let model = pipeline.Fit(altForecastData)"
   ]
  },
  {
   "cell_type": "code",
   "execution_count": null,
   "metadata": {
    "dotnet_interactive": {
     "language": "fsharp"
    }
   },
   "outputs": [],
   "source": [
    "open Microsoft.ML.Transforms.TimeSeries\r\n",
    "\r\n",
    "let forecastingEngine = model.CreateTimeSeriesEngine<AlternativeForecastInput, AlternativeLoadForecast>(mlContext)\r\n",
    "\r\n",
    "let horizon = 24 * 5\r\n",
    "let forecast = forecastingEngine.Predict(horizon = horizon)"
   ]
  },
  {
   "cell_type": "code",
   "execution_count": null,
   "metadata": {
    "dotnet_interactive": {
     "language": "fsharp"
    }
   },
   "outputs": [],
   "source": [
    "let predChart =\r\n",
    "    Seq.zip (testKeys |> Seq.take horizon) forecast.Forecast\r\n",
    "    |> fun xy -> Chart.Range(xy,\r\n",
    "                             forecast.LowerBound,\r\n",
    "                             forecast.UpperBound,\r\n",
    "                             mode = StyleParam.Mode.Lines,\r\n",
    "                             Color = Colors.toWebColor Colors.Table.Office.blue,\r\n",
    "                             RangeColor = Colors.toWebColor Colors.Table.Office.lightBlue)\r\n",
    "    |> Chart.withTraceName \"Forecast_CI\"\r\n",
    "\r\n",
    "let actualChart =\r\n",
    "    Seq.zip (testKeys |> Seq.take horizon) (testRows |> Seq.take horizon |> Seq.map (fun r -> r.Target))\r\n",
    "    |> fun xy -> Chart.Line(xy,\r\n",
    "                            Color = Colors.toWebColor Colors.Table.Office.orange,\r\n",
    "                            UseWebGL = true,\r\n",
    "                            Name = \"Actual\")\r\n",
    "\r\n",
    "[ actualChart; predChart ]\r\n",
    "|> Chart.Combine"
   ]
  },
  {
   "cell_type": "code",
   "execution_count": null,
   "metadata": {
    "dotnet_interactive": {
     "language": "fsharp"
    }
   },
   "outputs": [],
   "source": [
    "let actualVals = testRows |> Seq.take (24 * 30) |> Seq.map (fun r -> r.Target)\r\n",
    "let predVals = forecast.Forecast\r\n",
    "\r\n",
    "let minVal =\r\n",
    "    min (Seq.min predVals) (Seq.min actualVals)\r\n",
    "    |> float\r\n",
    "    |> fun v -> v - 100.\r\n",
    "\r\n",
    "let largestVal =\r\n",
    "    max (Seq.max predVals) (Seq.max actualVals)\r\n",
    "    |> float\r\n",
    "    |> fun v -> v + 100.\r\n",
    "\r\n",
    "let diagonalLine =\r\n",
    "    [ (minVal, minVal); (largestVal, largestVal) ]\r\n",
    "    |> fun xy -> Chart.Line(xy, Name = \"Diagonal\")\r\n",
    "\r\n",
    "let predActualScatter =\r\n",
    "    Seq.zip predVals actualVals\r\n",
    "    |> fun xy -> Chart.Point(xy, UseWebGL = true, Name = \"Pred/Actual\")\r\n",
    "    |> Chart.withX_AxisStyle (\"predictions\", MinMax = (minVal, largestVal))\r\n",
    "    |> Chart.withY_AxisStyle (\"actual\", MinMax = (minVal, largestVal))\r\n",
    "\r\n",
    "[ predActualScatter; diagonalLine ]\r\n",
    "|> Chart.Combine\r\n",
    "|> display\r\n",
    "\r\n",
    "Seq.pearson actualVals predVals\r\n",
    "|> display"
   ]
  },
  {
   "cell_type": "code",
   "execution_count": null,
   "metadata": {
    "dotnet_interactive": {
     "language": "fsharp"
    }
   },
   "outputs": [],
   "source": [
    "let forecastModel = modelDirectory + \"/forecast_model.zip\"\r\n",
    "\r\n",
    "mlContext.Model.Save(model, altForecastData.Schema, forecastModel)"
   ]
  }
 ],
 "metadata": {
  "kernelspec": {
   "display_name": ".NET (C#)",
   "language": "C#",
   "name": ".net-csharp"
  },
  "language_info": {
   "file_extension": ".cs",
   "mimetype": "text/x-csharp",
   "name": "C#",
   "pygments_lexer": "csharp",
   "version": "9.0"
  }
 },
 "nbformat": 4,
 "nbformat_minor": 2
}