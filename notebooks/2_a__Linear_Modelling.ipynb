{
 "cells": [
  {
   "cell_type": "markdown",
   "metadata": {},
   "source": [
    "# Linear Modelling"
   ]
  },
  {
   "cell_type": "markdown",
   "metadata": {},
   "source": [
    "In this notebook we'll go and start using `ML.NET`. `ML.NET` offers a vast array of high-end modelling tools. The library is built for performance and deployability in mind and there a lot of great choices for linear models like regressions using stochastic gradient descent for training the regression parameters. The \"standard\" linear regression we know and love from Excel or R is located in the `Microsoft.ML.Mkl.Components` where you can find it as `OLS` (ordinary least squares)."
   ]
  },
  {
   "cell_type": "code",
   "execution_count": null,
   "metadata": {
    "dotnet_interactive": {
     "language": "fsharp"
    }
   },
   "outputs": [],
   "source": [
    "#r \"nuget: Deedle, 2.3.0\"\r\n",
    "#r \"nuget: Plotly.NET, 2.0.0-beta9\"\r\n",
    "#r \"nuget: Plotly.NET.Interactive, 2.0.0-beta9\"\r\n",
    "#r \"nuget: Microsoft.ML, 1.5.5\"\r\n",
    "#r \"nuget: Microsoft.ML.Mkl.Components, 1.5.5\"\r\n",
    "#r \"nuget: FSharp.Stats, 0.4.1\"\r\n",
    "\r\n",
    "#i \"nuget:https://www.myget.org/F/gregs-experimental-packages/api/v3/index.json\"\r\n",
    "#r \"nuget:Deedle.DotNet.Interactive.Extension, 0.1.0-alpha6\""
   ]
  },
  {
   "cell_type": "markdown",
   "metadata": {},
   "source": [
    "As usual we load the data and quickly skim the first couple of rows as a quick sanity check."
   ]
  },
  {
   "cell_type": "code",
   "execution_count": null,
   "metadata": {
    "dotnet_interactive": {
     "language": "fsharp"
    }
   },
   "outputs": [],
   "source": [
    "open Deedle\r\n",
    "open Plotly.NET\r\n",
    "\r\n",
    "let data =\r\n",
    "    Frame.ReadCsv(\"../data/at_load_hourly_mw.csv\", hasHeaders = true, culture = \"en-US\", inferTypes = true, inferRows = 5_000)\r\n",
    "    |> Frame.indexRowsDate \"TimeStamp\"\r\n",
    "\r\n",
    "data"
   ]
  },
  {
   "cell_type": "markdown",
   "metadata": {},
   "source": [
    "With a univariate time series we wouldn't really have any predictors. We just have the values at their respective points in time $t$. If we want to use this dataset we'll have to do some feature engineering (the bread and butter of the working data scientist). We will do the following things:\r\n",
    "\r\n",
    "- Create a lag of $t_{1}$\r\n",
    "- Encode a factor for the day of the week (for the weekly seasonality)\r\n",
    "- Encode a factor for the month of the year (for the yearly seasonality)\r\n",
    "- Encode a factor for the peak/off-peak behavior (a concept from energy trading)\r\n",
    "\r\n",
    "The last step in preparation before we can create our model is to separate the data into a training set (2015-2018) and a testing set (2019). I won't include 2020 for obvious reasons (the data is super interesting but the impact of a pandemic would warrant its own talk)."
   ]
  },
  {
   "cell_type": "code",
   "execution_count": null,
   "metadata": {
    "dotnet_interactive": {
     "language": "fsharp"
    }
   },
   "outputs": [],
   "source": [
    "let shiftedValues =\r\n",
    "    data?Value\r\n",
    "    |> Series.shift -1\r\n",
    "\r\n",
    "let baseDateSeries =\r\n",
    "    Seq.zip data.RowKeys data.RowKeys\r\n",
    "    |> Series.ofObservations\r\n",
    "\r\n",
    "let dayOfWeek =\r\n",
    "    baseDateSeries\r\n",
    "    |> Series.mapValues (fun dt -> string dt.DayOfWeek)\r\n",
    "\r\n",
    "let month =\r\n",
    "    baseDateSeries\r\n",
    "    |> Series.mapValues (fun dt -> string dt.Month)\r\n",
    "\r\n",
    "let peakOffPeak =\r\n",
    "    baseDateSeries\r\n",
    "    |> Series.mapValues (fun dt -> if dt.Hour < 8 || dt.Hour > 19 then \"OffPeak\" else \"Peak\")\r\n",
    "\r\n",
    "let dataWithFeatures =\r\n",
    "    data\r\n",
    "    |> Frame.addCol \"Target\" shiftedValues\r\n",
    "    |> Frame.addCol \"DayOfWeek\" dayOfWeek\r\n",
    "    |> Frame.addCol \"Month\" month\r\n",
    "    |> Frame.addCol \"PeakOffPeak\" peakOffPeak\r\n",
    "    |> Frame.filterRows (fun key _ -> key.Year < 2020)\r\n",
    "    |> Frame.dropSparseRows\r\n",
    "\r\n",
    "let dataTrain =\r\n",
    "    dataWithFeatures\r\n",
    "    |> Frame.filterRows (fun key _ -> key.Year < 2019)\r\n",
    "\r\n",
    "let dataTest =\r\n",
    "    dataWithFeatures\r\n",
    "    |> Frame.filterRows (fun key _ -> key.Year >= 2019)\r\n",
    "\r\n",
    "dataTrain\r\n",
    "|> Frame.skip 3"
   ]
  },
  {
   "cell_type": "markdown",
   "metadata": {},
   "source": [
    "It makes also sense to look at the end of our training set to know exactly what comes before our evaluation data."
   ]
  },
  {
   "cell_type": "code",
   "execution_count": null,
   "metadata": {
    "dotnet_interactive": {
     "language": "fsharp"
    }
   },
   "outputs": [],
   "source": [
    "dataTrain |> Frame.takeLast 3"
   ]
  },
  {
   "cell_type": "markdown",
   "metadata": {},
   "source": [
    "We could work with all series in isolation and combine them to a new data view in ML.NET. `Deedle` offers a typed interface which does a lot of the ground work for us so I'd rather go with that."
   ]
  },
  {
   "cell_type": "code",
   "execution_count": null,
   "metadata": {
    "dotnet_interactive": {
     "language": "fsharp"
    }
   },
   "outputs": [],
   "source": [
    "type ILoadRow =\r\n",
    "    abstract member Ticks: float32 with get\r\n",
    "    abstract member Value: float32 with get\r\n",
    "    abstract member Target: float32 with get\r\n",
    "    abstract member DayOfWeek: string with get\r\n",
    "    abstract member Month: string with get\r\n",
    "    abstract member PeakOffPeak: string with get\r\n",
    "\r\n",
    "let (trainKeys: DateTime seq, trainRows: ILoadRow seq) =\r\n",
    "    dataTrain.GetRowsAs<ILoadRow>()\r\n",
    "    |> Series.observations\r\n",
    "    |> Seq.unzip\r\n",
    "\r\n",
    "let testKeys, testRows =\r\n",
    "    dataTest.GetRowsAs<ILoadRow>()\r\n",
    "    |> Series.observations\r\n",
    "    |> Seq.unzip\r\n",
    "\r\n",
    "Seq.length trainRows, Seq.length testRows"
   ]
  },
  {
   "cell_type": "code",
   "execution_count": null,
   "metadata": {
    "dotnet_interactive": {
     "language": "fsharp"
    }
   },
   "outputs": [],
   "source": [
    "open Microsoft.ML\r\n",
    "open Microsoft.ML.Data\r\n",
    "open Microsoft.ML.Trainers\r\n",
    "open Microsoft.ML.Transforms\r\n",
    "open FSharp.Stats.Correlation"
   ]
  },
  {
   "cell_type": "markdown",
   "metadata": {},
   "source": [
    "F# makes working with types really easy so I'd define types and mappings for all different pipeline steps in isolation of each other."
   ]
  },
  {
   "cell_type": "code",
   "execution_count": null,
   "metadata": {
    "dotnet_interactive": {
     "language": "fsharp"
    }
   },
   "outputs": [],
   "source": [
    "[<CLIMutable>]\r\n",
    "type ForecastInput =\r\n",
    "    { Ticks: float32\r\n",
    "      Value: float32\r\n",
    "      [<ColumnName(\"Label\")>]Target: float32\r\n",
    "      DayOfWeek: string\r\n",
    "      Month: string\r\n",
    "      PeakOffPeak: string }\r\n",
    "\r\n",
    "    static member FromILoadRows (row: ILoadRow) =\r\n",
    "        { Ticks = row.Ticks\r\n",
    "          Value = row.Value\r\n",
    "          Target = row.Target\r\n",
    "          DayOfWeek = row.DayOfWeek\r\n",
    "          Month = row.Month\r\n",
    "          PeakOffPeak = row.PeakOffPeak }\r\n",
    "\r\n",
    "[<CLIMutable>]\r\n",
    "type ForecastResult =\r\n",
    "    { [<ColumnName(\"Score\")>]LoadForecast: float32 }"
   ]
  },
  {
   "cell_type": "markdown",
   "metadata": {},
   "source": [
    "The `ML.NET` modelling process includes two parts:\r\n",
    "\r\n",
    "- Transformations to make the data workable for a linear regression\r\n",
    "- The trainer which gets fitted\r\n",
    "\r\n",
    "We only work with numerical values so first we have to one hot encode all nominal variables. After that we can concatenate the dummies as well as the running index component (which hopefully captures the trend) inthe model's feature vector."
   ]
  },
  {
   "cell_type": "code",
   "execution_count": null,
   "metadata": {
    "dotnet_interactive": {
     "language": "fsharp"
    }
   },
   "outputs": [],
   "source": [
    "let downCastPipeline (pipeline: IEstimator<'a>) =\r\n",
    "    match pipeline with\r\n",
    "    | :? IEstimator<ITransformer> as p -> p\r\n",
    "    | _ -> failwith $\"The pipeline has to be an instance of IEstimator<ITransformer> but was %A{pipeline.GetType()}\"\r\n",
    "\r\n",
    "let mlContext = MLContext(seed = 42)\r\n",
    "let defInp = Unchecked.defaultof<ForecastInput>\r\n",
    "let dayOneHot = \"DayOfWeekOneHot\"\r\n",
    "let monthOneHot = \"MonthOneHot\"\r\n",
    "let peakOneHot = \"PeakOffPeakOneHot\"\r\n",
    "\r\n",
    "let processingPipeline =\r\n",
    "    EstimatorChain()\r\n",
    "        .Append(mlContext.Transforms.Categorical.OneHotEncoding(dayOneHot, nameof defInp.DayOfWeek))\r\n",
    "        .Append(mlContext.Transforms.Categorical.OneHotEncoding(monthOneHot, nameof defInp.Month))\r\n",
    "        .Append(mlContext.Transforms.Categorical.OneHotEncoding(peakOneHot, nameof defInp.PeakOffPeak))\r\n",
    "        .Append(mlContext.Transforms.Concatenate(\"Features\", [| dayOneHot; monthOneHot; peakOneHot; nameof defInp.Ticks |]))\r\n",
    "    |> downCastPipeline\r\n",
    "\r\n",
    "let trainerOptions = OlsTrainer.Options(CalculateStatistics = true)\r\n",
    "let trainer =\r\n",
    "    mlContext.Regression.Trainers.Ols(trainerOptions)\r\n",
    "    |> downCastPipeline"
   ]
  },
  {
   "cell_type": "markdown",
   "metadata": {},
   "source": [
    "With all this preparation done we can finally fit and evaluate our model."
   ]
  },
  {
   "cell_type": "code",
   "execution_count": null,
   "metadata": {
    "dotnet_interactive": {
     "language": "fsharp"
    }
   },
   "outputs": [],
   "source": [
    "let dataViewTrain = mlContext.Data.LoadFromEnumerable<ForecastInput>(trainRows |> Seq.map (fun row -> ForecastInput.FromILoadRows row))\r\n",
    "let dataViewTest = mlContext.Data.LoadFromEnumerable<ForecastInput>(testRows |> Seq.map (fun row -> ForecastInput.FromILoadRows row))\r\n",
    "\r\n",
    "let trainingPipeline = processingPipeline.Append(trainer)\r\n",
    "let trainedModel = trainingPipeline.Fit(dataViewTrain)\r\n",
    "\r\n",
    "let transformedData = trainedModel.Transform(dataViewTest)\r\n",
    "let predictions = mlContext.Data.CreateEnumerable<ForecastResult>(transformedData, reuseRowObject = false) |> Seq.toList\r\n",
    "\r\n",
    "mlContext.Regression.Evaluate(transformedData)"
   ]
  },
  {
   "cell_type": "markdown",
   "metadata": {},
   "source": [
    "A $R^2$ of roughly 59% isn't exactly good but it isn't too shabby either for such a naive model. Naturally those values are hard to interpret without actually looking at the fitted values in relation to the true data."
   ]
  },
  {
   "cell_type": "code",
   "execution_count": null,
   "metadata": {
    "dotnet_interactive": {
     "language": "fsharp"
    }
   },
   "outputs": [],
   "source": [
    "open Plotly.NET\r\n",
    "\r\n",
    "let predVals = predictions |> Seq.map (fun p -> p.LoadForecast)\r\n",
    "let actualVals = testRows |> Seq.map (fun r -> r.Target)\r\n",
    "\r\n",
    "let predChart =\r\n",
    "    Seq.zip testKeys predVals\r\n",
    "    |> fun xy -> Chart.Line(xy, UseWebGL = true, Name = \"Predicted\")\r\n",
    "\r\n",
    "let actualChart =\r\n",
    "    Seq.zip testKeys actualVals\r\n",
    "    |> fun xy -> Chart.Line(xy, UseWebGL = true, Name = \"Actual\")\r\n",
    "\r\n",
    "[ actualChart; predChart ]\r\n",
    "|> Chart.Combine"
   ]
  },
  {
   "cell_type": "markdown",
   "metadata": {},
   "source": [
    "Most trainers in `ML.NET` give you extra information if you ask them nicely. The OLS trainer contains a couple of statistics. Unfortunately p-Values arent reliable at the moment. See [this issue](https://github.com/dotnet/machinelearning/issues/5696) for more context. This isn't too much of a problem really as linear regressions are very portable. We could also just use `FSharp.Stats` or R to compute the regression based on the same data and get addtional insights into the true p-Values and t-Statistics."
   ]
  },
  {
   "cell_type": "code",
   "execution_count": null,
   "metadata": {
    "dotnet_interactive": {
     "language": "fsharp"
    }
   },
   "outputs": [],
   "source": [
    "let model = (trainedModel.LastTransformer :?> RegressionPredictionTransformer<Microsoft.ML.Trainers.OlsModelParameters>).Model\r\n",
    "model"
   ]
  },
  {
   "cell_type": "markdown",
   "metadata": {},
   "source": [
    "Another great way to diagnose the model is to look at the actual values versus the forecasted values on a scatterplot. If the model were perfect all values would lie on a 45° diagonal. This is never the case but the way in which it differs from the optimum can tell us a lot. We can also look at the correlation between the actual and predicted values."
   ]
  },
  {
   "cell_type": "code",
   "execution_count": null,
   "metadata": {
    "dotnet_interactive": {
     "language": "fsharp"
    }
   },
   "outputs": [],
   "source": [
    "let minVal =\r\n",
    "    min (Seq.min predVals) (Seq.min actualVals)\r\n",
    "    |> float\r\n",
    "    |> fun v -> v - 100.\r\n",
    "\r\n",
    "let largestVal =\r\n",
    "    max (Seq.max predVals) (Seq.max actualVals)\r\n",
    "    |> float\r\n",
    "    |> fun v -> v + 100.\r\n",
    "\r\n",
    "let diagonalLine =\r\n",
    "    [ (minVal, minVal); (largestVal, largestVal) ]\r\n",
    "    |> fun xy -> Chart.Line(xy, Name = \"Diagonal\")\r\n",
    "\r\n",
    "let predActualScatter =\r\n",
    "    Seq.zip predVals actualVals\r\n",
    "    |> fun xy -> Chart.Point(xy, UseWebGL = true, Name = \"Pred/Actual\")\r\n",
    "    |> Chart.withX_AxisStyle (\"predictions\", MinMax = (minVal, largestVal))\r\n",
    "    |> Chart.withY_AxisStyle (\"actual\", MinMax = (minVal, largestVal))\r\n",
    "\r\n",
    "[ predActualScatter; diagonalLine ]\r\n",
    "|> Chart.Combine\r\n",
    "|> display\r\n",
    "\r\n",
    "Seq.pearson actualVals predVals\r\n",
    "|> display"
   ]
  },
  {
   "cell_type": "markdown",
   "metadata": {},
   "source": [
    "If we are happy with our model we can save it to disk for later use."
   ]
  },
  {
   "cell_type": "code",
   "execution_count": null,
   "metadata": {
    "dotnet_interactive": {
     "language": "fsharp"
    }
   },
   "outputs": [],
   "source": [
    "let modelDirectory = \"../models\"\r\n",
    "let linearModel = modelDirectory + \"/linear_model.zip\"\r\n",
    "\r\n",
    "mlContext.Model.Save(trainedModel, dataViewTrain.Schema, linearModel)"
   ]
  }
 ],
 "metadata": {
  "kernelspec": {
   "display_name": ".NET (C#)",
   "language": "C#",
   "name": ".net-csharp"
  },
  "language_info": {
   "file_extension": ".cs",
   "mimetype": "text/x-csharp",
   "name": "C#",
   "pygments_lexer": "csharp",
   "version": "9.0"
  }
 },
 "nbformat": 4,
 "nbformat_minor": 2
}