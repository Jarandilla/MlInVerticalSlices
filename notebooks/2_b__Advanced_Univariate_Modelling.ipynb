{
 "cells": [
  {
   "cell_type": "markdown",
   "metadata": {},
   "source": [
    "# Advanced Univariate Modelling"
   ]
  },
  {
   "cell_type": "markdown",
   "metadata": {},
   "source": [
    "`ML.NET` offers an extra package which contains functionality tailored to time series analysis. These models behave a bit differently from the \"usual\" ML models but in general, the usage is rather similar.\r\n",
    "We will use the Singular Spectrum Analysis trainer to test out a different forecasting approach."
   ]
  },
  {
   "cell_type": "markdown",
   "metadata": {},
   "source": [
    "## Loading and Preparation"
   ]
  },
  {
   "cell_type": "markdown",
   "metadata": {},
   "source": [
    "The loading and preparation steps don't differ a lot from the approach in `2_a`."
   ]
  },
  {
   "cell_type": "code",
   "execution_count": null,
   "metadata": {
    "dotnet_interactive": {
     "language": "fsharp"
    }
   },
   "outputs": [],
   "source": [
    "#r \"nuget: Deedle, 2.3.0\"\r\n",
    "#r \"nuget: Plotly.NET, 2.0.0-beta9\"\r\n",
    "#r \"nuget: Plotly.NET.Interactive, 2.0.0-beta9\"\r\n",
    "#r \"nuget: Microsoft.ML, 1.5.5\"\r\n",
    "#r \"nuget: Microsoft.ML.TimeSeries, 1.5.5\"\r\n",
    "#r \"nuget: FSharp.Stats, 0.4.1\"\r\n",
    "\r\n",
    "#i \"nuget:https://www.myget.org/F/gregs-experimental-packages/api/v3/index.json\"\r\n",
    "#r \"nuget:Deedle.DotNet.Interactive.Extension, 0.1.0-alpha6\""
   ]
  },
  {
   "cell_type": "code",
   "execution_count": null,
   "metadata": {
    "dotnet_interactive": {
     "language": "fsharp"
    }
   },
   "outputs": [],
   "source": [
    "open Deedle\r\n",
    "open Plotly.NET\r\n",
    "open Microsoft.ML\r\n",
    "open Microsoft.ML.Data\r\n",
    "open Microsoft.ML.Trainers\r\n",
    "open Microsoft.ML.Transforms\r\n",
    "open Microsoft.ML.Transforms.TimeSeries\r\n",
    "open FSharp.Stats.Correlation\r\n",
    "open Plotly.NET\r\n",
    "\r\n",
    "let data =\r\n",
    "    Frame.ReadCsv(\"../data/at_load_hourly_mw.csv\", hasHeaders = true, culture = \"en-US\", inferTypes = true, inferRows = 5_000)\r\n",
    "    |> Frame.dropCol \"Ticks\"\r\n",
    "    |> Frame.indexRowsDate \"TimeStamp\"\r\n",
    "\r\n",
    "let dataTrain =\r\n",
    "    data\r\n",
    "    |> Frame.filterRows (fun key _ -> key.Year < 2019)\r\n",
    "\r\n",
    "let dataTest =\r\n",
    "    data\r\n",
    "    |> Frame.filterRows (fun key _ -> key.Year >= 2019)\r\n",
    "\r\n",
    "dataTrain\r\n",
    "|> Frame.skip 3"
   ]
  },
  {
   "cell_type": "markdown",
   "metadata": {},
   "source": [
    "## A New Modelling Approach"
   ]
  },
  {
   "cell_type": "markdown",
   "metadata": {},
   "source": [
    "In comparision with the linear model the data preparation has less steps. We don't need anything else than the values we want to base our forecast on ordered in time. The result of a forecast always has a fixed horizon and allows us to get additional information about the lower and upper bounds a certain point estimate has in the specified confidence interval."
   ]
  },
  {
   "cell_type": "code",
   "execution_count": null,
   "metadata": {
    "dotnet_interactive": {
     "language": "fsharp"
    }
   },
   "outputs": [],
   "source": [
    "[<CLIMutable>]\r\n",
    "type AlternativeForecastInput =\r\n",
    "    { Load: float32\r\n",
    "      TimeStamp: DateTime }\r\n",
    "\r\n",
    "[<CLIMutable>]\r\n",
    "type AlternativeLoadForecast =\r\n",
    "  { Forecast: float32 array\r\n",
    "    LowerBound: float32 array\r\n",
    "    UpperBound: float32 array }\r\n",
    "\r\n",
    "let altForecastInputs =\r\n",
    "  dataTrain?Value\r\n",
    "  |> Series.observations\r\n",
    "  |> Seq.map (fun (k, v) -> { Load = float32 v; TimeStamp = k})\r\n",
    "\r\n",
    "let testKeys, testRows =\r\n",
    "    dataTest?Value\r\n",
    "    |> Series.observations\r\n",
    "    |> Seq.unzip"
   ]
  },
  {
   "cell_type": "markdown",
   "metadata": {},
   "source": [
    "A SSA Forecasting Trainer has a couple of hyper parameters to tune which are dependent on what you want to pick up (like your seasonalities and trends). It also needs a bit more time to perform a model fit, as the process is far more involved than fitting an OLS."
   ]
  },
  {
   "cell_type": "code",
   "execution_count": null,
   "metadata": {
    "dotnet_interactive": {
     "language": "fsharp"
    }
   },
   "outputs": [],
   "source": [
    "let mlContext = MLContext(seed = 42)\r\n",
    "\r\n",
    "let pipeline =\r\n",
    "  mlContext.Forecasting.ForecastBySsa(\r\n",
    "    \"Forecast\",\r\n",
    "    nameof Unchecked.defaultof<AlternativeForecastInput>.Load,\r\n",
    "    windowSize =  24 * 30,\r\n",
    "    seriesLength = 24 * 30 * 2,\r\n",
    "    trainSize = dataTrain.RowCount,\r\n",
    "    horizon = 24 * 30 ,\r\n",
    "    confidenceLevel = 0.90f,\r\n",
    "    confidenceLowerBoundColumn = \"LowerBound\",\r\n",
    "    confidenceUpperBoundColumn = \"UpperBound\"\r\n",
    ")\r\n",
    "\r\n",
    "let altForecastData = mlContext.Data.LoadFromEnumerable(altForecastInputs)\r\n",
    "\r\n",
    "let model = pipeline.Fit(altForecastData)"
   ]
  },
  {
   "cell_type": "markdown",
   "metadata": {},
   "source": [
    "In contrast to our linear model, time series models don't work with the normal prediction engine. They rather offer their own `TimeSeriesPredictionEngine`. This special engine allows us to specify horizons of arbitrary lengths and even to adapt the model with new data (which I wouldn't do without evaluation).\r\n",
    "\r\n",
    "Evaluating the forecast we see a pretty close fit for values that do not reach too far into the future (from the perspective of our known data). Also, the degree of uncertainty increases quickly - which is exactly what we would expect!"
   ]
  },
  {
   "cell_type": "code",
   "execution_count": null,
   "metadata": {
    "dotnet_interactive": {
     "language": "fsharp"
    }
   },
   "outputs": [],
   "source": [
    "let forecastingEngine = model.CreateTimeSeriesEngine<AlternativeForecastInput, AlternativeLoadForecast>(mlContext)\r\n",
    "\r\n",
    "let horizon = 24 * 5\r\n",
    "let forecast = forecastingEngine.Predict(horizon = horizon)\r\n",
    "\r\n",
    "let predChart =\r\n",
    "    Seq.zip (testKeys |> Seq.take horizon) forecast.Forecast\r\n",
    "    |> fun xy -> Chart.Range(xy,\r\n",
    "                             forecast.LowerBound,\r\n",
    "                             forecast.UpperBound,\r\n",
    "                             mode = StyleParam.Mode.Lines,\r\n",
    "                             Color = Colors.toWebColor Colors.Table.Office.blue,\r\n",
    "                             RangeColor = Colors.toWebColor Colors.Table.Office.lightBlue)\r\n",
    "    |> Chart.withTraceName \"Forecast_CI\"\r\n",
    "\r\n",
    "let actualChart =\r\n",
    "    Seq.zip (testKeys |> Seq.take horizon) (testRows |> Seq.take horizon)\r\n",
    "    |> fun xy -> Chart.Line(xy,\r\n",
    "                            Color = Colors.toWebColor Colors.Table.Office.orange,\r\n",
    "                            UseWebGL = true,\r\n",
    "                            Name = \"Actual\")\r\n",
    "\r\n",
    "[ actualChart; predChart ]\r\n",
    "|> Chart.Combine"
   ]
  },
  {
   "cell_type": "markdown",
   "metadata": {},
   "source": [
    "On a small, granular scale this looks similar to our linear model but if we look at the predicted values versus the actual values on a scatter plot we can see the immense difference our SSA trainer made in short term forecasts."
   ]
  },
  {
   "cell_type": "code",
   "execution_count": null,
   "metadata": {
    "dotnet_interactive": {
     "language": "fsharp"
    }
   },
   "outputs": [],
   "source": [
    "let actualVals = testRows |> Seq.take (24 * 30) |> Seq.map float32\r\n",
    "let predVals = forecast.Forecast\r\n",
    "\r\n",
    "let minVal =\r\n",
    "    min (Seq.min predVals) (Seq.min actualVals)\r\n",
    "    |> float\r\n",
    "    |> fun v -> v - 100.\r\n",
    "\r\n",
    "let largestVal =\r\n",
    "    max (Seq.max predVals) (Seq.max actualVals)\r\n",
    "    |> float\r\n",
    "    |> fun v -> v + 100.\r\n",
    "\r\n",
    "let diagonalLine =\r\n",
    "    [ (minVal, minVal); (largestVal, largestVal) ]\r\n",
    "    |> fun xy -> Chart.Line(xy, Name = \"Diagonal\")\r\n",
    "\r\n",
    "let predActualScatter =\r\n",
    "    Seq.zip predVals actualVals\r\n",
    "    |> fun xy -> Chart.Point(xy, UseWebGL = true, Name = \"Pred/Actual\")\r\n",
    "    |> Chart.withX_AxisStyle (\"predictions\", MinMax = (minVal, largestVal))\r\n",
    "    |> Chart.withY_AxisStyle (\"actual\", MinMax = (minVal, largestVal))\r\n",
    "\r\n",
    "[ predActualScatter; diagonalLine ]\r\n",
    "|> Chart.Combine\r\n",
    "|> display\r\n",
    "\r\n",
    "Seq.pearson actualVals predVals\r\n",
    "|> display"
   ]
  },
  {
   "cell_type": "markdown",
   "metadata": {},
   "source": [
    "At this point - if we are happy with the model - we can save it for later use."
   ]
  },
  {
   "cell_type": "code",
   "execution_count": null,
   "metadata": {
    "dotnet_interactive": {
     "language": "fsharp"
    }
   },
   "outputs": [],
   "source": [
    "let modelDirectory = \"../models\"\r\n",
    "let forecastModel = modelDirectory + \"/forecast_model.zip\"\r\n",
    "\r\n",
    "mlContext.Model.Save(model, altForecastData.Schema, forecastModel)"
   ]
  }
 ],
 "metadata": {
  "kernelspec": {
   "display_name": ".NET (C#)",
   "language": "C#",
   "name": ".net-csharp"
  },
  "language_info": {
   "file_extension": ".cs",
   "mimetype": "text/x-csharp",
   "name": "C#",
   "pygments_lexer": "csharp",
   "version": "9.0"
  }
 },
 "nbformat": 4,
 "nbformat_minor": 2
}