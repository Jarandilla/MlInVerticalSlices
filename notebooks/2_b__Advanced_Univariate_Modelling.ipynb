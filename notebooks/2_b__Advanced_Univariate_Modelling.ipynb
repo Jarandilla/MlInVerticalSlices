{
 "cells": [
  {
   "cell_type": "markdown",
   "metadata": {},
   "source": [
    "# Advanced Univariate Modelling"
   ]
  },
  {
   "cell_type": "code",
   "execution_count": null,
   "metadata": {
    "dotnet_interactive": {
     "language": "fsharp"
    }
   },
   "outputs": [],
   "source": [
    "#r \"nuget: Deedle, 2.3.0\"\r\n",
    "#r \"nuget: Plotly.NET, 2.0.0-beta9\"\r\n",
    "#r \"nuget: Plotly.NET.Interactive, 2.0.0-beta9\"\r\n",
    "#r \"nuget: Microsoft.ML, 1.5.5\"\r\n",
    "#r \"nuget: Microsoft.ML.TimeSeries, 1.5.5\"\r\n",
    "#r \"nuget: FSharp.Stats, 0.4.1\"\r\n",
    "\r\n",
    "#i \"nuget:https://www.myget.org/F/gregs-experimental-packages/api/v3/index.json\"\r\n",
    "#r \"nuget:Deedle.DotNet.Interactive.Extension, 0.1.0-alpha6\""
   ]
  },
  {
   "cell_type": "code",
   "execution_count": null,
   "metadata": {
    "dotnet_interactive": {
     "language": "fsharp"
    }
   },
   "outputs": [],
   "source": [
    "open Deedle\r\n",
    "open Plotly.NET\r\n",
    "\r\n",
    "let data =\r\n",
    "    Frame.ReadCsv(\"../data/at_load_hourly_mw.csv\", hasHeaders = true, culture = \"en-US\", inferTypes = true, inferRows = 5_000)\r\n",
    "    |> Frame.dropCol \"Ticks\"\r\n",
    "    |> Frame.indexRowsDate \"TimeStamp\"\r\n",
    "\r\n",
    "let dataTrain =\r\n",
    "    data\r\n",
    "    |> Frame.filterRows (fun key _ -> key.Year < 2019)\r\n",
    "\r\n",
    "let dataTest =\r\n",
    "    data\r\n",
    "    |> Frame.filterRows (fun key _ -> key.Year >= 2019)\r\n",
    "\r\n",
    "dataTrain\r\n",
    "|> Frame.skip 3"
   ]
  },
  {
   "cell_type": "code",
   "execution_count": null,
   "metadata": {
    "dotnet_interactive": {
     "language": "fsharp"
    }
   },
   "outputs": [],
   "source": [
    "open Microsoft.ML\r\n",
    "open Microsoft.ML.Data\r\n",
    "open Microsoft.ML.Trainers\r\n",
    "open Microsoft.ML.Transforms\r\n",
    "open FSharp.Stats.Correlation\r\n",
    "open Plotly.NET\r\n",
    "\r\n",
    "[<CLIMutable>]\r\n",
    "type AlternativeForecastInput =\r\n",
    "    { Load: float32\r\n",
    "      TimeStamp: DateTime }\r\n",
    "\r\n",
    "[<CLIMutable>]\r\n",
    "type AlternativeLoadForecast =\r\n",
    "  { Forecast: float32 array\r\n",
    "    LowerBound: float32 array\r\n",
    "    UpperBound: float32 array }\r\n",
    "\r\n",
    "let altForecastInputs =\r\n",
    "  dataTrain?Value\r\n",
    "  |> Series.observations\r\n",
    "  |> Seq.map (fun (k, v) -> { Load = float32 v; TimeStamp = k})\r\n",
    "\r\n",
    "let testKeys, testRows =\r\n",
    "    dataTest?Value\r\n",
    "    |> Series.observations\r\n",
    "    |> Seq.unzip"
   ]
  },
  {
   "cell_type": "code",
   "execution_count": null,
   "metadata": {
    "dotnet_interactive": {
     "language": "fsharp"
    }
   },
   "outputs": [],
   "source": [
    "let mlContext = MLContext(seed = 42)\r\n",
    "\r\n",
    "let pipeline =\r\n",
    "  mlContext.Forecasting.ForecastBySsa(\r\n",
    "    \"Forecast\",\r\n",
    "    nameof Unchecked.defaultof<AlternativeForecastInput>.Load,\r\n",
    "    windowSize =  24 * 30,\r\n",
    "    seriesLength = 24 * 30 * 2,\r\n",
    "    trainSize = dataTrain.RowCount,\r\n",
    "    horizon = 24 * 30 ,\r\n",
    "    confidenceLevel = 0.90f,\r\n",
    "    confidenceLowerBoundColumn = \"LowerBound\",\r\n",
    "    confidenceUpperBoundColumn = \"UpperBound\"\r\n",
    ")\r\n",
    "\r\n",
    "let altForecastData = mlContext.Data.LoadFromEnumerable(altForecastInputs)\r\n",
    "\r\n",
    "let model = pipeline.Fit(altForecastData)"
   ]
  },
  {
   "cell_type": "code",
   "execution_count": null,
   "metadata": {
    "dotnet_interactive": {
     "language": "fsharp"
    }
   },
   "outputs": [],
   "source": [
    "open Microsoft.ML.Transforms.TimeSeries\r\n",
    "\r\n",
    "let forecastingEngine = model.CreateTimeSeriesEngine<AlternativeForecastInput, AlternativeLoadForecast>(mlContext)\r\n",
    "\r\n",
    "let horizon = 24 * 5\r\n",
    "let forecast = forecastingEngine.Predict(horizon = horizon)"
   ]
  },
  {
   "cell_type": "code",
   "execution_count": null,
   "metadata": {
    "dotnet_interactive": {
     "language": "fsharp"
    }
   },
   "outputs": [],
   "source": [
    "let predChart =\r\n",
    "    Seq.zip (testKeys |> Seq.take horizon) forecast.Forecast\r\n",
    "    |> fun xy -> Chart.Range(xy,\r\n",
    "                             forecast.LowerBound,\r\n",
    "                             forecast.UpperBound,\r\n",
    "                             mode = StyleParam.Mode.Lines,\r\n",
    "                             Color = Colors.toWebColor Colors.Table.Office.blue,\r\n",
    "                             RangeColor = Colors.toWebColor Colors.Table.Office.lightBlue)\r\n",
    "    |> Chart.withTraceName \"Forecast_CI\"\r\n",
    "\r\n",
    "let actualChart =\r\n",
    "    Seq.zip (testKeys |> Seq.take horizon) (testRows |> Seq.take horizon)\r\n",
    "    |> fun xy -> Chart.Line(xy,\r\n",
    "                            Color = Colors.toWebColor Colors.Table.Office.orange,\r\n",
    "                            UseWebGL = true,\r\n",
    "                            Name = \"Actual\")\r\n",
    "\r\n",
    "[ actualChart; predChart ]\r\n",
    "|> Chart.Combine"
   ]
  },
  {
   "cell_type": "code",
   "execution_count": null,
   "metadata": {
    "dotnet_interactive": {
     "language": "fsharp"
    }
   },
   "outputs": [],
   "source": [
    "let actualVals = testRows |> Seq.take (24 * 30) |> Seq.map float32\r\n",
    "let predVals = forecast.Forecast\r\n",
    "\r\n",
    "let minVal =\r\n",
    "    min (Seq.min predVals) (Seq.min actualVals)\r\n",
    "    |> float\r\n",
    "    |> fun v -> v - 100.\r\n",
    "\r\n",
    "let largestVal =\r\n",
    "    max (Seq.max predVals) (Seq.max actualVals)\r\n",
    "    |> float\r\n",
    "    |> fun v -> v + 100.\r\n",
    "\r\n",
    "let diagonalLine =\r\n",
    "    [ (minVal, minVal); (largestVal, largestVal) ]\r\n",
    "    |> fun xy -> Chart.Line(xy, Name = \"Diagonal\")\r\n",
    "\r\n",
    "let predActualScatter =\r\n",
    "    Seq.zip predVals actualVals\r\n",
    "    |> fun xy -> Chart.Point(xy, UseWebGL = true, Name = \"Pred/Actual\")\r\n",
    "    |> Chart.withX_AxisStyle (\"predictions\", MinMax = (minVal, largestVal))\r\n",
    "    |> Chart.withY_AxisStyle (\"actual\", MinMax = (minVal, largestVal))\r\n",
    "\r\n",
    "[ predActualScatter; diagonalLine ]\r\n",
    "|> Chart.Combine\r\n",
    "|> display\r\n",
    "\r\n",
    "Seq.pearson actualVals predVals\r\n",
    "|> display"
   ]
  },
  {
   "cell_type": "code",
   "execution_count": null,
   "metadata": {
    "dotnet_interactive": {
     "language": "fsharp"
    }
   },
   "outputs": [],
   "source": [
    "let modelDirectory = \"../models\"\r\n",
    "let forecastModel = modelDirectory + \"/forecast_model.zip\"\r\n",
    "\r\n",
    "mlContext.Model.Save(model, altForecastData.Schema, forecastModel)"
   ]
  }
 ],
 "metadata": {
  "kernelspec": {
   "display_name": ".NET (C#)",
   "language": "C#",
   "name": ".net-csharp"
  },
  "language_info": {
   "file_extension": ".cs",
   "mimetype": "text/x-csharp",
   "name": "C#",
   "pygments_lexer": "csharp",
   "version": "9.0"
  }
 },
 "nbformat": 4,
 "nbformat_minor": 2
}