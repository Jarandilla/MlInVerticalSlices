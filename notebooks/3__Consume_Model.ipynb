{
 "cells": [
  {
   "cell_type": "code",
   "execution_count": null,
   "metadata": {
    "dotnet_interactive": {
     "language": "fsharp"
    }
   },
   "outputs": [],
   "source": [
    "#r \"nuget: Deedle, 2.3.0\"\r\n",
    "#r \"nuget: Plotly.NET, 2.0.0-beta9\"\r\n",
    "#r \"nuget: Plotly.NET.Interactive, 2.0.0-beta9\"\r\n",
    "#r \"nuget: FSharp.Stats, 0.4.1\"\r\n",
    "\r\n",
    "#i \"nuget:https://www.myget.org/F/gregs-experimental-packages/api/v3/index.json\"\r\n",
    "#r \"nuget:Deedle.DotNet.Interactive.Extension, 0.1.0-alpha6\""
   ]
  },
  {
   "cell_type": "code",
   "execution_count": null,
   "metadata": {
    "dotnet_interactive": {
     "language": "fsharp"
    }
   },
   "outputs": [],
   "source": [
    "open Deedle\r\n",
    "open Plotly.NET\r\n",
    "open System\r\n",
    "open System.Net.Http\r\n",
    "open System.Net.Http.Json\r\n",
    "open System.Text.Json\r\n",
    "open System.Text.Json.Serialization"
   ]
  },
  {
   "cell_type": "code",
   "execution_count": null,
   "metadata": {
    "dotnet_interactive": {
     "language": "fsharp"
    }
   },
   "outputs": [],
   "source": [
    "let data =\r\n",
    "    Frame.ReadCsv(\"../data/at_load_hourly_mw.csv\", hasHeaders = true, culture = \"en-US\", inferTypes = true, inferRows = 5_000)\r\n",
    "    |> Frame.indexRowsDate \"TimeStamp\"\r\n",
    "\r\n",
    "data"
   ]
  },
  {
   "cell_type": "code",
   "execution_count": null,
   "metadata": {
    "dotnet_interactive": {
     "language": "fsharp"
    }
   },
   "outputs": [],
   "source": [
    "let baseUrl = \"http://localhost:5000\"\r\n",
    "\r\n",
    "let client = new HttpClient()\r\n",
    "client.BaseAddress <- Uri(baseUrl)\r\n",
    "\r\n",
    "client.GetAsync(\"/\")\r\n",
    "|> Async.AwaitTask\r\n",
    "|> Async.RunSynchronously"
   ]
  },
  {
   "cell_type": "code",
   "execution_count": null,
   "metadata": {
    "dotnet_interactive": {
     "language": "fsharp"
    }
   },
   "outputs": [],
   "source": [
    "type LinearForecastResponse =\r\n",
    "    { LoadForecast: float }"
   ]
  },
  {
   "cell_type": "code",
   "execution_count": null,
   "metadata": {
    "dotnet_interactive": {
     "language": "fsharp"
    }
   },
   "outputs": [],
   "source": [
    "let from = DateTime.Parse(\"2019-03-10T00:00:00\")\r\n",
    "let horizon = 24 * 10\r\n",
    "\r\n",
    "let response =\r\n",
    "    client.PostAsJsonAsync(\"/linear-forecast\", {| From = from; Horizon = horizon |})\r\n",
    "    |> Async.AwaitTask\r\n",
    "    |> Async.RunSynchronously\r\n",
    "\r\n",
    "let forecastedValues =\r\n",
    "    response.Content.ReadFromJsonAsync<LinearForecastResponse array>()\r\n",
    "    |> Async.AwaitTask\r\n",
    "    |> Async.RunSynchronously\r\n",
    "    |> Array.map (fun lf -> lf.LoadForecast)\r\n",
    "\r\n",
    "forecastedValues\r\n",
    "|> Array.take 10"
   ]
  },
  {
   "cell_type": "code",
   "execution_count": null,
   "metadata": {
    "dotnet_interactive": {
     "language": "fsharp"
    }
   },
   "outputs": [],
   "source": [
    "let keys, actualValues =\r\n",
    "    data?Value\r\n",
    "    |> Series.observations\r\n",
    "    |> Seq.skipWhile (fun (k, _) -> k <> from)\r\n",
    "    |> Seq.take horizon\r\n",
    "    |> Seq.unzip\r\n",
    "\r\n",
    "let predChart =\r\n",
    "    Seq.zip keys forecastedValues\r\n",
    "    |> fun xy -> Chart.Line(xy, UseWebGL = true, Name = \"Predicted\")\r\n",
    "\r\n",
    "let actualChart =\r\n",
    "    Seq.zip keys actualValues\r\n",
    "    |> fun xy -> Chart.Line(xy, UseWebGL = true, Name = \"Actual\")\r\n",
    "\r\n",
    "[ actualChart; predChart ]\r\n",
    "|> Chart.Combine"
   ]
  },
  {
   "cell_type": "code",
   "execution_count": null,
   "metadata": {
    "dotnet_interactive": {
     "language": "fsharp"
    }
   },
   "outputs": [],
   "source": [
    "type AlternativeLoadForecast =\r\n",
    "  { Forecast: float32 array\r\n",
    "    LowerBound: float32 array\r\n",
    "    UpperBound: float32 array }"
   ]
  },
  {
   "cell_type": "code",
   "execution_count": null,
   "metadata": {
    "dotnet_interactive": {
     "language": "fsharp"
    }
   },
   "outputs": [],
   "source": [
    "let response =\r\n",
    "    client.PostAsJsonAsync(\"/ssa-forecast\", {| From = from; Horizon = horizon |})\r\n",
    "    |> Async.AwaitTask\r\n",
    "    |> Async.RunSynchronously\r\n",
    "\r\n",
    "let forecastedValues =\r\n",
    "    response.Content.ReadFromJsonAsync<AlternativeLoadForecast>()\r\n",
    "    |> Async.AwaitTask\r\n",
    "    |> Async.RunSynchronously\r\n",
    "    |> fun forecast -> forecast.Forecast\r\n",
    "\r\n",
    "forecastedValues\r\n",
    "|> Array.take 10"
   ]
  },
  {
   "cell_type": "code",
   "execution_count": null,
   "metadata": {
    "dotnet_interactive": {
     "language": "fsharp"
    }
   },
   "outputs": [],
   "source": [
    "let predChart =\r\n",
    "    Seq.zip keys forecastedValues\r\n",
    "    |> fun xy -> Chart.Line(xy, UseWebGL = true, Name = \"Predicted\")\r\n",
    "\r\n",
    "let actualChart =\r\n",
    "    Seq.zip keys actualValues\r\n",
    "    |> fun xy -> Chart.Line(xy, UseWebGL = true, Name = \"Actual\")\r\n",
    "\r\n",
    "[ actualChart; predChart ]\r\n",
    "|> Chart.Combine"
   ]
  }
 ],
 "metadata": {
  "kernelspec": {
   "display_name": ".NET (C#)",
   "language": "C#",
   "name": ".net-csharp"
  },
  "language_info": {
   "file_extension": ".cs",
   "mimetype": "text/x-csharp",
   "name": "C#",
   "pygments_lexer": "csharp",
   "version": "9.0"
  },
  "orig_nbformat": 2
 },
 "nbformat": 4,
 "nbformat_minor": 2
}